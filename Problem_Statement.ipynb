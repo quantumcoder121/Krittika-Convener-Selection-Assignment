{
  "nbformat": 4,
  "nbformat_minor": 5,
  "metadata": {
    "kernelspec": {
      "display_name": "Python 3",
      "language": "python",
      "name": "python3"
    },
    "language_info": {
      "codemirror_mode": {
        "name": "ipython",
        "version": 3
      },
      "file_extension": ".py",
      "mimetype": "text/x-python",
      "name": "python",
      "nbconvert_exporter": "python",
      "pygments_lexer": "ipython3",
      "version": "3.8.5"
    },
    "colab": {
      "name": "Problem_Statement.ipynb",
      "provenance": []
    }
  },
  "cells": [
    {
      "cell_type": "markdown",
      "metadata": {
        "id": "increased-fleet"
      },
      "source": [
        "# Krittika Convener Selection Assignments\n",
        "## Python Assignment"
      ],
      "id": "increased-fleet"
    },
    {
      "cell_type": "markdown",
      "metadata": {
        "id": "cubic-marsh"
      },
      "source": [
        "1. You may find the **KSP tutorials** useful: https://github.com/krittikaiitb/tutorials - Tutorials 1,2,3, and 4 are particularly relevant. These cover basic `python`, `numpy`, functions in `python` and `matplotlib` respectively.\n",
        "\n",
        "2. A helpful reminder that executing a cell with `help` (for example: `help(np.loadtxt)` or `np.loadtxt?`) will show the documentation for that function.\n",
        "\n",
        "3. The use of internet is completely ALLOWED for solving this assignment.\n",
        "4. Feel free to use multiple cells for your solutions. But keep them separate for each question (don't use a cell to solve Q1 after Q2)"
      ],
      "id": "cubic-marsh"
    },
    {
      "cell_type": "markdown",
      "metadata": {
        "id": "progressive-cathedral"
      },
      "source": [
        "### Q1: Parsing Form Responses (10 points)\n",
        "Suppose you have collected responses from various IITB students using a google form and the responses have been extracted as a csv file. You want to mail all the people who have filled the form now. The email client used by LDAP mail accepts a single string of comma separated email adresses (note that {rollnumber}@iitb.ac.in will redirect to respective student). \n",
        "\n",
        "Your task is to parse the CSV file and generate the comma separated string."
      ],
      "id": "progressive-cathedral"
    },
    {
      "cell_type": "markdown",
      "metadata": {
        "id": "hungry-rocket"
      },
      "source": [
        "For example, if the csv file contains \n",
        "\n",
        "| Sr. No | Name | Roll Number |\n",
        "| -------- | -------- | -------- |\n",
        "| 1     | Newton     | 2000001    |\n",
        "| 2     | Galileo     | 2000005    |\n",
        "| 3     | Kepler     | 2000010    |\n",
        "\n",
        "\n",
        "Then your program should print the string `2000001@iitb.ac.in, 2000005@iitb.ac.in, 2000010@iitb.ac.in`"
      ],
      "id": "hungry-rocket"
    },
    {
      "cell_type": "code",
      "metadata": {
        "id": "stretch-practice"
      },
      "source": [
        "file1 = \"Dataset_Q1.csv\""
      ],
      "id": "stretch-practice",
      "execution_count": null,
      "outputs": []
    },
    {
      "cell_type": "markdown",
      "metadata": {
        "id": "opening-penguin"
      },
      "source": [
        "You may find `numpy.loadtxt` or `numpy.genfromtxt` to be useful here. Feel free to use any method you wish to load the data from `file1`.\n",
        "\n",
        "Write your code as a function that takes in the data file as input and returns the relevant string."
      ],
      "id": "opening-penguin"
    },
    {
      "cell_type": "code",
      "metadata": {
        "id": "surprised-adventure"
      },
      "source": [
        "#Solution Code for Q1\n",
        "\n",
        "#Required Imports\n",
        "import csv\n",
        "\n",
        "#Function\n",
        "def get_emails(filename):\n",
        "        \n",
        "        emails = []\n",
        "        \n",
        "        #Putting emails in an array\n",
        "        with open(filename) as csvfile:\n",
        "                csvReader = csv.reader(csvfile)\n",
        "                for row in csvReader:\n",
        "                        emails.append(row[2])\n",
        "        \n",
        "        #Output String\n",
        "        output = ''\n",
        "        \n",
        "        #Synthesizing the Output String\n",
        "        for i in range (1, len(emails) - 1):\n",
        "                output = output + emails[i] + '@iitb.ac.in, '\n",
        "\n",
        "        output = output + emails[len(emails) - 1] + '@iitb.ac.in'\n",
        "        \n",
        "        #Returning the Output String\n",
        "        return output"
      ],
      "id": "surprised-adventure",
      "execution_count": 3,
      "outputs": []
    },
    {
      "cell_type": "code",
      "metadata": {
        "id": "PnlUEGZytwvp"
      },
      "source": [
        "print(get_emails(file1))"
      ],
      "id": "PnlUEGZytwvp",
      "execution_count": null,
      "outputs": []
    },
    {
      "cell_type": "markdown",
      "metadata": {
        "id": "manual-feelings"
      },
      "source": [
        "### Q2: The moons of Endor (20 points)\n",
        "\n",
        "Endor is a fictional planet from the [Star Wars](https://starwars.fandom.com/wiki/Endor_(planet)) universe which has 9 major moons. The masses, semimajor axes and time periods of each of these moons is given in `Dataset_Q2.csv`. The masses (*m*) are given as a fraction of the mass of Endor itself, the semimajor axis (*a*) as a fraction of the radius of Endor and time period (*T*) in Endor days.\n",
        "\n",
        "<b style='color:red;'>Note for Star Wars fans</b>: First, are you ok? Second, the values are fabricated, don't go looking for reasons why the data can't hold up to random in-universe information."
      ],
      "id": "manual-feelings"
    },
    {
      "cell_type": "code",
      "metadata": {
        "id": "hindu-bulgarian"
      },
      "source": [
        "file2 = 'Dataset_Q2.csv'"
      ],
      "id": "hindu-bulgarian",
      "execution_count": null,
      "outputs": []
    },
    {
      "cell_type": "markdown",
      "metadata": {
        "id": "adverse-julian"
      },
      "source": [
        "Recall the usual Kepler's third law which can be written as \n",
        "$$\\frac{a^{3/2}}{T} = \\sqrt{\\frac{G(M_{planet}+m_{moon})}{4\\pi^2}}$$\n",
        "where $a$ is the semimajor axis, $T$ is the time period, $M_{planet}$ is the mass of the planet, $m_{moon}$ is the mass of the moon, and $G$ is the universal gravitational constant.\n",
        "\n",
        "\n",
        "We plan to fit the data we have to the power law relation \n",
        "$$\\frac{a^{x}}{T} = \\sqrt{\\frac{G(M_{planet}+m_{moon})}{4\\pi^2}}$$\n",
        "\n",
        "Your task is to determine the constant $x$ by fitting the given 'experimental' data and decide whether Kepler's law (with $x$ = 1.5) holds, in the galaxy far far away (where star wars happens). Also find the value of $G$ in the given unit system.\n",
        "\n",
        "\n",
        "Hint: `numpy.polyfit` or `scipy.optimize.curve_fit` (and maybe `numpy.log`) might be useful for solving this question."
      ],
      "id": "adverse-julian"
    },
    {
      "cell_type": "code",
      "metadata": {
        "id": "qWrnBfQ169-S"
      },
      "source": [
        "#Solution Code for Q2\n",
        "\n",
        "#Required Imports\n",
        "import numpy as np\n",
        "\n",
        "#Loading the main array\n",
        "master_array = np.loadtxt('Dataset_Q2.csv', delimiter = ',')\n",
        "\n",
        "#Extracting out the required arrays\n",
        "mass = [] #mass of moon\n",
        "tp = [] #time-period of orbit\n",
        "sa = [] #semi-major axis\n",
        "\n",
        "for i in range (0, len(master_array)):\n",
        "    mass.append(master_array[i][0])\n",
        "    tp.append(master_array[i][1])\n",
        "    sa.append(master_array[i][2])\n",
        "\n",
        "#Corresponding NumPy Arrays\n",
        "np_mass = np.array(mass)\n",
        "np_tp = np.array(tp)\n",
        "np_sa = np.array(sa)\n",
        "\n",
        "#Fitting the Data\n",
        "data_y = np.log(np_mass + 1) / 2 + np.log(np_tp)\n",
        "data_x = np.log(np_sa)\n",
        "\n",
        "data_fit = np.polyfit(data_x, data_y, 1)\n",
        "\n",
        "#Value of x\n",
        "x = data_fit[0]"
      ],
      "id": "qWrnBfQ169-S",
      "execution_count": null,
      "outputs": []
    },
    {
      "cell_type": "code",
      "metadata": {
        "id": "industrial-texture"
      },
      "source": [
        "print('x={}'.format(x))"
      ],
      "id": "industrial-texture",
      "execution_count": null,
      "outputs": []
    },
    {
      "cell_type": "markdown",
      "metadata": {
        "id": "turkish-soccer"
      },
      "source": [
        "## Q2 Bonus (10 points): \n",
        "Make a plot of the power law curve you have found, and the scatter plot the data points on top of this curve, to establish that your fit is good."
      ],
      "id": "turkish-soccer"
    },
    {
      "cell_type": "code",
      "metadata": {
        "id": "exact-marketing"
      },
      "source": [
        "# Solution Code for Q2 Bonus\n",
        "\n",
        "# Required Imports\n",
        "import matplotlib.pyplot as plt\n",
        "\n",
        "# Plotting Data Points\n",
        "plt.plot(data_x, data_y,'ro')\n",
        "plt.xlabel('log(a)')\n",
        "plt.ylabel('log(M_planet + M_moon)/2 + log(T)')\n",
        "\n",
        "# Plotting the Curve"
      ],
      "id": "exact-marketing",
      "execution_count": null,
      "outputs": []
    }
  ]
}